{
 "cells": [
  {
   "cell_type": "code",
   "execution_count": null,
   "id": "cc1c16f5",
   "metadata": {
    "vscode": {
     "languageId": "plaintext"
    }
   },
   "outputs": [],
   "source": [
    "# Fine-tune Gemma 2b it in Google Colab"
   ]
  },
  {
   "cell_type": "code",
   "execution_count": null,
   "id": "fc6bb704",
   "metadata": {},
   "outputs": [],
   "source": [
    "# Install virtualenv package\n",
    "!pip install -q virtualenv\n",
    "\n",
    "# Create a new virtual environment\n",
    "!virtualenv finetuninggemmabase"
   ]
  },
  {
   "cell_type": "code",
   "execution_count": null,
   "id": "4dc646ff",
   "metadata": {},
   "outputs": [],
   "source": [
    "# Upgrade and install required libraries\n",
    "# Python 3.10.12\n",
    "!pip3 install -q -U bitsandbytes==0.42.0\n",
    "!pip3 install -q -U peft==0.8.2\n",
    "!pip3 install -q -U trl==0.7.10\n",
    "!pip3 install -q -U accelerate==0.27.2\n",
    "!pip3 install -q -U datasets==2.17.0\n",
    "!pip3 install -q -U transformers==4.38.1\n",
    "!pip3 install -q -U huggingface_hub\n",
    "!pip3 install -q -U py7zr"
   ]
  },
  {
   "cell_type": "code",
   "execution_count": null,
   "id": "4e4b43d2",
   "metadata": {},
   "outputs": [],
   "source": [
    "# Activate the virtual environment\n",
    "!source finetuninggemmabase/bin/activate"
   ]
  },
  {
   "cell_type": "code",
   "execution_count": null,
   "id": "e15f57ce",
   "metadata": {},
   "outputs": [],
   "source": [
    "import os\n",
    "import torch\n",
    "import gc\n",
    "from datasets import load_dataset\n",
    "from transformers import (\n",
    "    AutoModelForCausalLM,\n",
    "    AutoTokenizer,\n",
    "    BitsAndBytesConfig,\n",
    "    TrainingArguments,\n",
    ")\n",
    "from peft import LoraConfig, PeftModel\n",
    "from trl import SFTTrainer\n",
    "import huggingface_hub\n",
    "from google.colab import userdata"
   ]
  },
  {
   "cell_type": "code",
   "execution_count": null,
   "id": "02dc0419",
   "metadata": {},
   "outputs": [],
   "source": [
    "def clear_memory():\n",
    "    \"\"\"Clear GPU memory and collect garbage.\"\"\"\n",
    "    torch.cuda.empty_cache()\n",
    "    gc.collect()\n",
    "\n",
    "# Clear memory before starting\n",
    "clear_memory()"
   ]
  },
  {
   "cell_type": "code",
   "execution_count": null,
   "id": "fb51cf57",
   "metadata": {},
   "outputs": [],
   "source": [
    "# Retrieve and set up Hugging Face token\n",
    "hf_token = userdata.get(\"HF_TOKEN\")\n",
    "os.environ[\"WANDB_DISABLED\"] = \"true\""
   ]
  },
  {
   "cell_type": "code",
   "execution_count": null,
   "id": "b58e08a4",
   "metadata": {},
   "outputs": [],
   "source": [
    "MODEL_ID = \"google/gemma-2b-it\"\n",
    "REPO_NAME = \"nguyenanhhuy248/gemma-2b-it-samsum\""
   ]
  },
  {
   "cell_type": "code",
   "execution_count": null,
   "id": "baadbfcf",
   "metadata": {},
   "outputs": [],
   "source": [
    "# Load and configure the model with quantization\n",
    "bnb_config = BitsAndBytesConfig(\n",
    "    load_in_4bit=True,\n",
    "    bnb_4bit_quant_type=\"nf4\",\n",
    "    bnb_4bit_compute_dtype=torch.bfloat16\n",
    ")\n",
    "tokenizer = AutoTokenizer.from_pretrained(MODEL_ID, token=hf_token)\n",
    "model = AutoModelForCausalLM.from_pretrained(\n",
    "    MODEL_ID,\n",
    "    quantization_config=bnb_config,\n",
    "    device_map={\"\": 0},\n",
    "    token=hf_token\n",
    ")\n",
    "tokenizer.padding_side = \"right\""
   ]
  },
  {
   "cell_type": "code",
   "execution_count": null,
   "id": "862f63f2",
   "metadata": {},
   "outputs": [],
   "source": [
    "# Load and preprocess the dataset\n",
    "dataset = load_dataset(\"samsum\", split=\"train\", trust_remote_code=True)\n",
    "dataset = dataset.map(lambda samples: tokenizer(samples[\"dialogue\"]), batched=True)"
   ]
  },
  {
   "cell_type": "code",
   "execution_count": null,
   "id": "205e1ea9",
   "metadata": {},
   "outputs": [],
   "source": [
    "# Create LoRA configuration for the model\n",
    "lora_config = LoraConfig(\n",
    "    r=8,\n",
    "    target_modules=[\n",
    "        \"q_proj\",\n",
    "        \"o_proj\",\n",
    "        \"k_proj\",\n",
    "        \"v_proj\",\n",
    "        \"gate_proj\",\n",
    "        \"up_proj\",\n",
    "        \"down_proj\",\n",
    "    ],\n",
    "    task_type=\"CAUSAL_LM\",\n",
    ")"
   ]
  },
  {
   "cell_type": "code",
   "execution_count": null,
   "id": "24f11271",
   "metadata": {},
   "outputs": [],
   "source": [
    "# Function to format examples for training\n",
    "def formatting_func(example):\n",
    "    text = f\"Dialogue: {example['dialogue'][0]}\\nSummary: {example['summary'][0]}\"\n",
    "    return [text]\n",
    "\n",
    "# Initialize the trainer\n",
    "trainer = SFTTrainer(\n",
    "    model=model,\n",
    "    train_dataset=dataset,\n",
    "    args=TrainingArguments(\n",
    "        per_device_train_batch_size=1,\n",
    "        gradient_accumulation_steps=4,\n",
    "        warmup_steps=2,\n",
    "        max_steps=100,\n",
    "        learning_rate=2e-4,\n",
    "        fp16=True,\n",
    "        logging_steps=1,\n",
    "        output_dir=\"outputs\",\n",
    "        optim=\"paged_adamw_8bit\",\n",
    "    ),\n",
    "    peft_config=lora_config,\n",
    "    formatting_func=formatting_func,\n",
    "    max_seq_length=2048,\n",
    ")"
   ]
  },
  {
   "cell_type": "code",
   "execution_count": null,
   "id": "a2cd57de",
   "metadata": {},
   "outputs": [],
   "source": [
    "# Train the model\n",
    "trainer.train()"
   ]
  },
  {
   "cell_type": "code",
   "execution_count": null,
   "id": "1a5f6711",
   "metadata": {},
   "outputs": [],
   "source": [
    "# Save trained model\n",
    "trainer.model.save_pretrained(\"gemma-2b-it-samsum\")"
   ]
  },
  {
   "cell_type": "code",
   "execution_count": null,
   "id": "1d8d7ac3",
   "metadata": {},
   "outputs": [],
   "source": [
    "# Clean up\n",
    "del model\n",
    "del trainer\n",
    "clear_memory()"
   ]
  },
  {
   "cell_type": "code",
   "execution_count": null,
   "id": "391135fd",
   "metadata": {},
   "outputs": [],
   "source": [
    "# Reload model in FP16 and merge with LoRA weights\n",
    "base_model = AutoModelForCausalLM.from_pretrained(\n",
    "    MODEL_ID,\n",
    "    low_cpu_mem_usage=True,\n",
    "    return_dict=True,\n",
    "    torch_dtype=torch.float16,\n",
    "    device_map={\"\": 0},\n",
    ")\n",
    "model = PeftModel.from_pretrained(base_model, \"gemma-2b-it-samsum\")\n",
    "model = model.merge_and_unload()"
   ]
  },
  {
   "cell_type": "code",
   "execution_count": null,
   "id": "6a8af759",
   "metadata": {},
   "outputs": [],
   "source": [
    "# Reload tokenizer to save it\n",
    "tokenizer = AutoTokenizer.from_pretrained(MODEL_ID, trust_remote_code=True)\n",
    "tokenizer.pad_token = tokenizer.eos_token\n",
    "tokenizer.padding_side = \"right\""
   ]
  },
  {
   "cell_type": "code",
   "execution_count": null,
   "id": "8276f1f1",
   "metadata": {},
   "outputs": [],
   "source": [
    "# Login to Hugging Face hub and push model and tokenizer\n",
    "huggingface_hub.login(token=hf_token)\n",
    "tokenizer.push_to_hub(REPO_NAME, use_temp_dir=False)\n",
    "model.push_to_hub(REPO_NAME, use_temp_dir=False)"
   ]
  },
  {
   "cell_type": "code",
   "execution_count": null,
   "id": "20660cdc",
   "metadata": {},
   "outputs": [],
   "source": [
    "# Zip up the model folder\n",
    "import locale\n",
    "locale.getpreferredencoding = lambda: \"UTF-8\"\n",
    "!zip -r /content/gemma-2b-it-samsum.zip /content/gemma-2b-it-samsum"
   ]
  },
  {
   "cell_type": "code",
   "execution_count": null,
   "id": "64145202",
   "metadata": {},
   "outputs": [],
   "source": [
    "# Copy model to Google Drive\n",
    "from google.colab import drive\n",
    "drive.mount('/content/drive')\n",
    "!cp /content/gemma-2b-it-samsum.zip /content/drive/MyDrive/gemma-2b-it-samsum.zip"
   ]
  }
 ],
 "metadata": {
  "language_info": {
   "name": "python"
  }
 },
 "nbformat": 4,
 "nbformat_minor": 5
}
